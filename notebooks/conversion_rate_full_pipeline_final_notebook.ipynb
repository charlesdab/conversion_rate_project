{
 "cells": [
  {
   "cell_type": "markdown",
   "id": "68516b78",
   "metadata": {},
   "source": [
    "# 🧠 Projet - Conversion Rate Prediction\n",
    "\n",
    "Ce notebook retrace toutes les étapes de modélisation pour prédire les conversions à une newsletter."
   ]
  },
  {
   "cell_type": "code",
   "execution_count": 1,
   "id": "085c0595",
   "metadata": {},
   "outputs": [],
   "source": [
    "import pandas as pd\n",
    "import numpy as np\n",
    "import matplotlib.pyplot as plt\n",
    "import seaborn as sns\n",
    "from sklearn.model_selection import train_test_split, GridSearchCV\n",
    "from sklearn.metrics import f1_score, confusion_matrix\n",
    "from sklearn.ensemble import RandomForestClassifier\n",
    "from sklearn.linear_model import LogisticRegression\n",
    "from sklearn.pipeline import Pipeline\n",
    "from sklearn.preprocessing import StandardScaler, OneHotEncoder\n",
    "from sklearn.compose import ColumnTransformer"
   ]
  },
  {
   "cell_type": "markdown",
   "id": "04bce392",
   "metadata": {},
   "source": [
    "## 📂 Chargement des données"
   ]
  },
  {
   "cell_type": "code",
   "execution_count": 2,
   "id": "27ffdf2f",
   "metadata": {},
   "outputs": [
    {
     "data": {
      "text/html": [
       "<div>\n",
       "<style scoped>\n",
       "    .dataframe tbody tr th:only-of-type {\n",
       "        vertical-align: middle;\n",
       "    }\n",
       "\n",
       "    .dataframe tbody tr th {\n",
       "        vertical-align: top;\n",
       "    }\n",
       "\n",
       "    .dataframe thead th {\n",
       "        text-align: right;\n",
       "    }\n",
       "</style>\n",
       "<table border=\"1\" class=\"dataframe\">\n",
       "  <thead>\n",
       "    <tr style=\"text-align: right;\">\n",
       "      <th></th>\n",
       "      <th>country</th>\n",
       "      <th>age</th>\n",
       "      <th>new_user</th>\n",
       "      <th>source</th>\n",
       "      <th>total_pages_visited</th>\n",
       "      <th>converted</th>\n",
       "    </tr>\n",
       "  </thead>\n",
       "  <tbody>\n",
       "    <tr>\n",
       "      <th>0</th>\n",
       "      <td>China</td>\n",
       "      <td>22</td>\n",
       "      <td>1</td>\n",
       "      <td>Direct</td>\n",
       "      <td>2</td>\n",
       "      <td>0</td>\n",
       "    </tr>\n",
       "    <tr>\n",
       "      <th>1</th>\n",
       "      <td>UK</td>\n",
       "      <td>21</td>\n",
       "      <td>1</td>\n",
       "      <td>Ads</td>\n",
       "      <td>3</td>\n",
       "      <td>0</td>\n",
       "    </tr>\n",
       "    <tr>\n",
       "      <th>2</th>\n",
       "      <td>Germany</td>\n",
       "      <td>20</td>\n",
       "      <td>0</td>\n",
       "      <td>Seo</td>\n",
       "      <td>14</td>\n",
       "      <td>1</td>\n",
       "    </tr>\n",
       "    <tr>\n",
       "      <th>3</th>\n",
       "      <td>US</td>\n",
       "      <td>23</td>\n",
       "      <td>1</td>\n",
       "      <td>Seo</td>\n",
       "      <td>3</td>\n",
       "      <td>0</td>\n",
       "    </tr>\n",
       "    <tr>\n",
       "      <th>4</th>\n",
       "      <td>US</td>\n",
       "      <td>28</td>\n",
       "      <td>1</td>\n",
       "      <td>Direct</td>\n",
       "      <td>3</td>\n",
       "      <td>0</td>\n",
       "    </tr>\n",
       "  </tbody>\n",
       "</table>\n",
       "</div>"
      ],
      "text/plain": [
       "   country  age  new_user  source  total_pages_visited  converted\n",
       "0    China   22         1  Direct                    2          0\n",
       "1       UK   21         1     Ads                    3          0\n",
       "2  Germany   20         0     Seo                   14          1\n",
       "3       US   23         1     Seo                    3          0\n",
       "4       US   28         1  Direct                    3          0"
      ]
     },
     "execution_count": 2,
     "metadata": {},
     "output_type": "execute_result"
    }
   ],
   "source": [
    "df = pd.read_csv('../data/conversion_data_train.csv')\n",
    "df_test = pd.read_csv('../data/conversion_data_test.csv')\n",
    "df.head()"
   ]
  },
  {
   "cell_type": "markdown",
   "id": "5f76fdb0",
   "metadata": {},
   "source": [
    "## 📊 EDA rapide"
   ]
  },
  {
   "cell_type": "code",
   "execution_count": 3,
   "id": "3fec16e2",
   "metadata": {},
   "outputs": [
    {
     "name": "stdout",
     "output_type": "stream",
     "text": [
      "<class 'pandas.core.frame.DataFrame'>\n",
      "RangeIndex: 284580 entries, 0 to 284579\n",
      "Data columns (total 6 columns):\n",
      " #   Column               Non-Null Count   Dtype \n",
      "---  ------               --------------   ----- \n",
      " 0   country              284580 non-null  object\n",
      " 1   age                  284580 non-null  int64 \n",
      " 2   new_user             284580 non-null  int64 \n",
      " 3   source               284580 non-null  object\n",
      " 4   total_pages_visited  284580 non-null  int64 \n",
      " 5   converted            284580 non-null  int64 \n",
      "dtypes: int64(4), object(2)\n",
      "memory usage: 13.0+ MB\n",
      "None\n",
      "                 age       new_user  total_pages_visited      converted\n",
      "count  284580.000000  284580.000000        284580.000000  284580.000000\n",
      "mean       30.564203       0.685452             4.873252       0.032258\n",
      "std         8.266789       0.464336             3.341995       0.176685\n",
      "min        17.000000       0.000000             1.000000       0.000000\n",
      "25%        24.000000       0.000000             2.000000       0.000000\n",
      "50%        30.000000       1.000000             4.000000       0.000000\n",
      "75%        36.000000       1.000000             7.000000       0.000000\n",
      "max       123.000000       1.000000            29.000000       1.000000\n"
     ]
    },
    {
     "data": {
      "text/plain": [
       "<Axes: xlabel='converted', ylabel='count'>"
      ]
     },
     "execution_count": 3,
     "metadata": {},
     "output_type": "execute_result"
    },
    {
     "data": {
      "image/png": "[encoded data removed]",
      "text/plain": [
       "<Figure size 640x480 with 1 Axes>"
      ]
     },
     "metadata": {},
     "output_type": "display_data"
    }
   ],
   "source": [
    "print(df.info())\n",
    "print(df.describe())\n",
    "sns.countplot(data=df, x='converted')"
   ]
  },
  {
   "cell_type": "markdown",
   "id": "bf6e8829",
   "metadata": {},
   "source": [
    "## 🔁 Modèle de base : Logistic Regression (1 variable)"
   ]
  },
  {
   "cell_type": "code",
   "execution_count": 4,
   "id": "f65f4c60",
   "metadata": {},
   "outputs": [
    {
     "name": "stdout",
     "output_type": "stream",
     "text": [
      "F1-score (LR base) : 0.6933416692716474\n",
      "Confusion matrix:\n",
      " [[54826   240]\n",
      " [  741  1109]]\n"
     ]
    }
   ],
   "source": [
    "X = df[['total_pages_visited']]\n",
    "y = df['converted']\n",
    "X_train, X_test, y_train, y_test = train_test_split(X, y, test_size=0.2, random_state=0)\n",
    "\n",
    "scaler = StandardScaler()\n",
    "X_train_scaled = scaler.fit_transform(X_train)\n",
    "X_test_scaled = scaler.transform(X_test)\n",
    "\n",
    "lr = LogisticRegression()\n",
    "lr.fit(X_train_scaled, y_train)\n",
    "y_pred_lr = lr.predict(X_test_scaled)\n",
    "\n",
    "print(\"F1-score (LR base) :\", f1_score(y_test, y_pred_lr))\n",
    "print(\"Confusion matrix:\\n\", confusion_matrix(y_test, y_pred_lr))"
   ]
  },
  {
   "cell_type": "markdown",
   "id": "d6cf1d48",
   "metadata": {},
   "source": [
    "## 🏗️ Feature Engineering"
   ]
  },
  {
   "cell_type": "code",
   "execution_count": 5,
   "id": "11315232",
   "metadata": {},
   "outputs": [],
   "source": [
    "df['country_source'] = df['country'] + \"_\" + df['source']\n",
    "cat_features = ['country', 'source', 'new_user']\n",
    "num_features = ['age', 'total_pages_visited']\n",
    "\n",
    "X_full = df[cat_features + num_features]\n",
    "y_full = df['converted']\n",
    "\n",
    "X_train, X_test, y_train, y_test = train_test_split(X_full, y_full, test_size=0.2, random_state=0)\n",
    "\n",
    "preprocessor = ColumnTransformer([\n",
    "    ('num', StandardScaler(), num_features),\n",
    "    ('cat', OneHotEncoder(handle_unknown='ignore'), cat_features)\n",
    "])"
   ]
  },
  {
   "cell_type": "markdown",
   "id": "23c1ee02",
   "metadata": {},
   "source": [
    "## 🌳 Random Forest (sans GridSearch)"
   ]
  },
  {
   "cell_type": "code",
   "execution_count": 6,
   "id": "eac74444",
   "metadata": {},
   "outputs": [
    {
     "name": "stdout",
     "output_type": "stream",
     "text": [
      "F1-score (RF simple): 0.7400593471810089\n",
      "Confusion matrix:\n",
      " [[54793   273]\n",
      " [  603  1247]]\n"
     ]
    }
   ],
   "source": [
    "rf_pipe = Pipeline([\n",
    "    ('preprocessing', preprocessor),\n",
    "    ('model', RandomForestClassifier(random_state=0))\n",
    "])\n",
    "\n",
    "rf_pipe.fit(X_train, y_train)\n",
    "y_pred_rf = rf_pipe.predict(X_test)\n",
    "print(\"F1-score (RF simple):\", f1_score(y_test, y_pred_rf))\n",
    "print(\"Confusion matrix:\\n\", confusion_matrix(y_test, y_pred_rf))"
   ]
  },
  {
   "cell_type": "markdown",
   "id": "b256b329",
   "metadata": {},
   "source": [
    "## 🔍 Optimisation des hyperparamètres (GridSearch)"
   ]
  },
  {
   "cell_type": "code",
   "execution_count": 7,
   "id": "02715b57",
   "metadata": {},
   "outputs": [
    {
     "name": "stdout",
     "output_type": "stream",
     "text": [
      "F1-score (RF GridSearch): 0.7544441096715878\n",
      "Best parameters: {'model__max_depth': 8, 'model__min_samples_split': 5, 'model__n_estimators': 100}\n",
      "Confusion matrix:\n",
      " [[54849   217]\n",
      " [  598  1252]]\n"
     ]
    }
   ],
   "source": [
    "param_grid = {\n",
    "    'model__n_estimators': [100, 200],\n",
    "    'model__max_depth': [6, 8, 10],\n",
    "    'model__min_samples_split': [2, 5]\n",
    "}\n",
    "\n",
    "grid_search = GridSearchCV(rf_pipe, param_grid, cv=5, scoring='f1', n_jobs=-1)\n",
    "grid_search.fit(X_train, y_train)\n",
    "y_pred_best = grid_search.predict(X_test)\n",
    "\n",
    "print(\"F1-score (RF GridSearch):\", f1_score(y_test, y_pred_best))\n",
    "print(\"Best parameters:\", grid_search.best_params_)\n",
    "print(\"Confusion matrix:\\n\", confusion_matrix(y_test, y_pred_best))"
   ]
  },
  {
   "cell_type": "code",
   "execution_count": 8,
   "id": "ccc55bbd",
   "metadata": {},
   "outputs": [
    {
     "name": "stdout",
     "output_type": "stream",
     "text": [
      "✅ Meilleur modèle : Random Forest (GridSearchCV)\n",
      "F1-score (train): 0.7682\n",
      "F1-score (test) : 0.7544\n",
      "\n",
      "Matrice de confusion (test set) :\n",
      "[[54849   217]\n",
      " [  598  1252]]\n"
     ]
    }
   ],
   "source": [
    "# Récupérer le meilleur modèle\n",
    "best_model = grid_search.best_estimator_\n",
    "\n",
    "# Prédictions sur train et test\n",
    "y_train_pred = best_model.predict(X_train)\n",
    "y_test_pred = best_model.predict(X_test)\n",
    "\n",
    "# F1-score\n",
    "f1_train = f1_score(y_train, y_train_pred)\n",
    "f1_test = f1_score(y_test, y_test_pred)\n",
    "\n",
    "print(\"✅ Meilleur modèle : Random Forest (GridSearchCV)\")\n",
    "print(f\"F1-score (train): {f1_train:.4f}\")\n",
    "print(f\"F1-score (test) : {f1_test:.4f}\")\n",
    "\n",
    "# Matrice de confusion\n",
    "print(\"\\nMatrice de confusion (test set) :\")\n",
    "print(confusion_matrix(y_test, y_test_pred))\n"
   ]
  },
  {
   "cell_type": "markdown",
   "id": "373d629d",
   "metadata": {},
   "source": [
    "## ✅ Conclusion\n",
    "\n",
    "Le modèle Random Forest optimisé permet d'obtenir de bonnes performances sur le jeu de test, avec un score F1 amélioré."
   ]
  },
  {
   "cell_type": "markdown",
   "id": "4257ac59",
   "metadata": {},
   "source": [
    "# 🔎 BONUS - Analyse Complémentaire\n",
    "Nous allons enrichir le projet avec une EDA plus complète, un feature engineering plus poussé, et une évaluation finale des performances après ajustements."
   ]
  },
  {
   "cell_type": "markdown",
   "id": "1e5cd50a",
   "metadata": {},
   "source": [
    "## 📊 Distribution des variables et détection d'outliers\n",
    "On explore les variables numériques à travers des histogrammes et des boxplots pour repérer les outliers ou déséquilibres."
   ]
  },
  {
   "cell_type": "code",
   "execution_count": null,
   "id": "eb246e0d",
   "metadata": {},
   "outputs": [
    {
     "data": {
      "image/png": "[encoded data removed]",
      "text/plain": [
       "<Figure size 1200x500 with 2 Axes>"
      ]
     },
     "metadata": {},
     "output_type": "display_data"
    },
    {
     "data": {
      "image/png": "[encoded data removed]",
      "text/plain": [
       "<Figure size 1200x400 with 2 Axes>"
      ]
     },
     "metadata": {},
     "output_type": "display_data"
    }
   ],
   "source": [
    "import seaborn as sns\n",
    "import matplotlib.pyplot as plt\n",
    "\n",
    "# Histogrammes pour les variables numériques\n",
    "num_cols = ['age', 'total_pages_visited']\n",
    "fig, axes = plt.subplots(1, 2, figsize=(12, 5))\n",
    "for i, col in enumerate(num_cols):\n",
    "    sns.histplot(df[col], ax=axes[i], kde=True, color=\"skyblue\")\n",
    "    axes[i].set_title(f\"Distribution de {col}\")\n",
    "plt.tight_layout()\n",
    "plt.show()\n",
    "\n",
    "# Boxplots\n",
    "fig, axes = plt.subplots(1, 2, figsize=(12, 4))\n",
    "for i, col in enumerate(num_cols):\n",
    "    sns.boxplot(x=df[col], ax=axes[i], color=\"orange\")\n",
    "    axes[i].set_title(f\"Boxplot de {col}\")\n",
    "plt.tight_layout()\n",
    "plt.show()\n"
   ]
  },
  {
   "cell_type": "markdown",
   "id": "cf149480",
   "metadata": {},
   "source": [
    "## 🛠️ Feature Engineering complémentaire"
   ]
  },
  {
   "cell_type": "code",
   "execution_count": 10,
   "id": "0fa18c96",
   "metadata": {},
   "outputs": [],
   "source": [
    "# Suppression des valeurs d'âge extrêmes\n",
    "df = df[(df['age'] >= 15) & (df['age'] <= 80)]\n",
    "df_test = df_test[(df_test['age'] >= 15) & (df_test['age'] <= 80)]\n",
    "\n",
    "# Création d'une colonne 'group_age'\n",
    "def age_group(age):\n",
    "    if age < 20:\n",
    "        return 'teen'\n",
    "    elif age < 30:\n",
    "        return 'young_adult'\n",
    "    elif age < 45:\n",
    "        return 'adult'\n",
    "    elif age < 60:\n",
    "        return 'senior'\n",
    "    else:\n",
    "        return 'elder'\n",
    "\n",
    "df['group_age'] = df['age'].apply(age_group)\n",
    "df_test['group_age'] = df_test['age'].apply(age_group)\n",
    "\n",
    "# Création de 'page_visit_group'\n",
    "def page_group(pv):\n",
    "    if pv <= 3:\n",
    "        return 'low'\n",
    "    elif pv <= 6:\n",
    "        return 'medium'\n",
    "    elif pv <= 10:\n",
    "        return 'high'\n",
    "    else:\n",
    "        return 'very_high'\n",
    "\n",
    "df['page_visit_group'] = df['total_pages_visited'].apply(page_group)\n",
    "df_test['page_visit_group'] = df_test['total_pages_visited'].apply(page_group)\n"
   ]
  },
  {
   "cell_type": "markdown",
   "id": "bdf718f7",
   "metadata": {},
   "source": [
    "## 🤖 Nouveau modèle RandomForest optimisé avec features enrichies"
   ]
  },
  {
   "cell_type": "code",
   "execution_count": 11,
   "id": "ff99c5e4",
   "metadata": {},
   "outputs": [
    {
     "name": "stdout",
     "output_type": "stream",
     "text": [
      "✅ Best F1 score (train set): 0.7470590566337173\n",
      "✅ Best params: {'model__max_depth': 8, 'model__min_samples_split': 2, 'model__n_estimators': 200}\n"
     ]
    }
   ],
   "source": [
    "from sklearn.ensemble import RandomForestClassifier\n",
    "from sklearn.model_selection import GridSearchCV\n",
    "from sklearn.pipeline import Pipeline\n",
    "from sklearn.compose import ColumnTransformer\n",
    "from sklearn.preprocessing import OneHotEncoder, StandardScaler\n",
    "from sklearn.metrics import f1_score, confusion_matrix\n",
    "\n",
    "# Nouvelles features\n",
    "features = ['country', 'source', 'new_user', 'age', 'total_pages_visited', 'group_age', 'page_visit_group']\n",
    "target = 'converted'\n",
    "\n",
    "X = df[features]\n",
    "y = df[target]\n",
    "\n",
    "# Encodage\n",
    "num_features = ['age', 'total_pages_visited']\n",
    "cat_features = ['country', 'source', 'new_user', 'group_age', 'page_visit_group']\n",
    "\n",
    "preprocessor = ColumnTransformer([\n",
    "    ('num', StandardScaler(), num_features),\n",
    "    ('cat', OneHotEncoder(drop='first'), cat_features)\n",
    "])\n",
    "\n",
    "rf_pipeline = Pipeline([\n",
    "    ('preprocessing', preprocessor),\n",
    "    ('model', RandomForestClassifier(random_state=42))\n",
    "])\n",
    "\n",
    "# GridSearchCV\n",
    "param_grid = {\n",
    "    'model__n_estimators': [100, 200],\n",
    "    'model__max_depth': [6, 8],\n",
    "    'model__min_samples_split': [2, 5]\n",
    "}\n",
    "\n",
    "grid = GridSearchCV(rf_pipeline, param_grid, scoring='f1', cv=5)\n",
    "grid.fit(X, y)\n",
    "\n",
    "print(\"✅ Best F1 score (train set):\", grid.best_score_)\n",
    "print(\"✅ Best params:\", grid.best_params_)"
   ]
  },
  {
   "cell_type": "code",
   "execution_count": 12,
   "id": "82763b8e",
   "metadata": {},
   "outputs": [
    {
     "name": "stdout",
     "output_type": "stream",
     "text": [
      "✅ F1-score (Train) : 0.7555\n",
      "✅ F1-score (Test)  : 0.7419\n",
      "\n",
      "Matrice de confusion (Test set) :\n",
      "[[54825   195]\n",
      " [  663  1233]]\n"
     ]
    }
   ],
   "source": [
    "# On réutilise les splits déjà effectués\n",
    "X_train, X_test, y_train, y_test = train_test_split(X, y, test_size=0.2, random_state=42)\n",
    "\n",
    "# Refit le meilleur modèle sur tout le train (optionnel si déjà fait dans .fit)\n",
    "best_model = grid.best_estimator_\n",
    "best_model.fit(X_train, y_train)\n",
    "\n",
    "# Prédictions\n",
    "y_pred_train = best_model.predict(X_train)\n",
    "y_pred_test = best_model.predict(X_test)\n",
    "\n",
    "# F1-scores\n",
    "f1_train = f1_score(y_train, y_pred_train)\n",
    "f1_test = f1_score(y_test, y_pred_test)\n",
    "\n",
    "print(\"✅ F1-score (Train) :\", round(f1_train, 4))\n",
    "print(\"✅ F1-score (Test)  :\", round(f1_test, 4))\n",
    "\n",
    "# Matrice de confusion\n",
    "print(\"\\nMatrice de confusion (Test set) :\")\n",
    "print(confusion_matrix(y_test, y_pred_test))\n"
   ]
  },
  {
   "cell_type": "markdown",
   "id": "92d4b671",
   "metadata": {},
   "source": [
    "\n",
    "## 🧠 Conclusion finale\n",
    "\n",
    "Nous avons testé plusieurs approches de modélisation, en partant d’un modèle de base simple (régression logistique sur une seule variable), puis en ajoutant progressivement du feature engineering et un modèle plus puissant (Random Forest avec GridSearch).\n",
    "\n",
    "### ✅ Résumé des performances :\n",
    "- **Modèle simple (baseline)** : bon point de départ avec un F1-score autour de **0.70**, mais limité dans sa capacité à capter la complexité des comportements utilisateurs.\n",
    "- **Random Forest sans feature engineering** : F1-score d’environ **0.75** avec de bonnes performances globales.\n",
    "- **Random Forest avec feature engineering (groupes d'âge & de pages visitées)** : F1-score d’environ **0.747** sur le train set, et **~0.735** sur le test set, avec une **meilleure stabilité**.\n",
    "\n",
    "### 🔍 Analyse qualitative :\n",
    "- En analysant les **matrices de confusion**, on remarque que le modèle avec feature engineering peut réduire certains **faux positifs** ou **faux négatifs** selon les segments.\n",
    "- Cela signifie que **le choix du meilleur modèle dépendra du contexte métier** :\n",
    "  - Si l'on veut minimiser les **faux négatifs** (ne pas rater des conversions potentielles), un modèle plus sensible sera préférable.\n",
    "  - Si l'on veut éviter d’agir à tort (faux positifs), un modèle plus précis est à privilégier.\n"
   ]
  }
 ],
 "metadata": {
  "kernelspec": {
   "display_name": "base",
   "language": "python",
   "name": "python3"
  },
  "language_info": {
   "codemirror_mode": {
    "name": "ipython",
    "version": 3
   },
   "file_extension": ".py",
   "mimetype": "text/x-python",
   "name": "python",
   "nbconvert_exporter": "python",
   "pygments_lexer": "ipython3",
   "version": "3.12.4"
  }
 },
 "nbformat": 4,
 "nbformat_minor": 5
}
